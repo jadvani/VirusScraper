{
 "cells": [
  {
   "cell_type": "code",
   "execution_count": 55,
   "metadata": {},
   "outputs": [
    {
     "name": "stdout",
     "output_type": "stream",
     "text": [
      "Afectados en España:\r\n",
      "Infectados: 24,926        \r\n",
      "Fallecidos: 1,326\r\n",
      "Recuperados: 2,125\r\n",
      "\r\n",
      "Afectados en Italia:\r\n",
      "Infectados: 47,021        \r\n",
      "Fallecidos: 4,032\r\n",
      "Recuperados: 5,129\r\n",
      "\r\n",
      "Afectados en todo el Mundo:\r\n",
      "Infectados: 284,697        \r\n",
      "Fallecidos: 11,842\r\n",
      "Recuperados: 93,576\r\n",
      "\r\n",
      "\n"
     ]
    }
   ],
   "source": [
    "from requests import get\n",
    "from bs4 import BeautifulSoup\n",
    "import os\n",
    "url_base = 'https://www.worldometers.info/coronavirus/'\n",
    "urls = [url_base+'country/spain/',url_base+'country/italy/',url_base]\n",
    "countries = ['España:','Italia:', 'todo el Mundo:']\n",
    "scrapped_info = ['Infectados','Fallecidos','Recuperados']\n",
    "result=\"\"\n",
    "for url in urls:\n",
    "    result+=\"Afectados en \"+countries[urls.index(url)]+os.linesep\n",
    "    html_soup = BeautifulSoup(get(url).text, 'html.parser')\n",
    "    virus_containers = html_soup.find_all('div', class_ = 'maincounter-number')\n",
    "    for number in virus_containers:\n",
    "        result+=scrapped_info[virus_containers.index(number)]+\": \"+number.find('span').get_text()+os.linesep\n",
    "    result+=os.linesep\n",
    "print(result)"
   ]
  },
  {
   "cell_type": "code",
   "execution_count": 56,
   "metadata": {},
   "outputs": [
    {
     "name": "stdout",
     "output_type": "stream",
     "text": [
      "successfully sent email to: advani@ieee.org\n"
     ]
    }
   ],
   "source": [
    "import smtplib\n",
    "from datetime import date\n",
    "from email.mime.multipart import MIMEMultipart\n",
    "from email.mime.text import MIMEText\n",
    "import smtplib\n",
    "\n",
    "msg = MIMEMultipart()\n",
    "\n",
    "# setup your Gmail Parameters\n",
    "password = \"***\"\n",
    "msg['From'] = \"***\"\n",
    "msg['To'] = \"***\"\n",
    "msg['Subject'] = \"Coronavirus, \"+ str(date.today())\n",
    " \n",
    "# add in the message body\n",
    "msg.attach(MIMEText(result, 'plain'))\n",
    " \n",
    "#Gmail Server\n",
    "server = smtplib.SMTP('smtp.gmail.com: 587')\n",
    " \n",
    "server.starttls()\n",
    " \n",
    "# Login Credentials for sending the mail\n",
    "server.login(msg['From'], password)\n",
    " \n",
    " \n",
    "# send the message via the server.\n",
    "server.sendmail(msg['From'], msg['To'], msg.as_string())\n",
    " \n",
    "server.quit()\n",
    " \n",
    "print(\"successfully sent email to: \"+msg['To'])"
   ]
  }
 ],
 "metadata": {
  "kernelspec": {
   "display_name": "Python 3",
   "language": "python",
   "name": "python3"
  },
  "language_info": {
   "codemirror_mode": {
    "name": "ipython",
    "version": 3
   },
   "file_extension": ".py",
   "mimetype": "text/x-python",
   "name": "python",
   "nbconvert_exporter": "python",
   "pygments_lexer": "ipython3",
   "version": "3.7.4"
  }
 },
 "nbformat": 4,
 "nbformat_minor": 2
}
