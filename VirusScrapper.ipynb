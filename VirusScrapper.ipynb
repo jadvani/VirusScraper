{
 "cells": [
  {
   "cell_type": "code",
   "execution_count": 85,
   "metadata": {},
   "outputs": [],
   "source": [
    "from requests import get\n",
    "from bs4 import BeautifulSoup\n",
    "import os\n",
    "import datetime\n",
    "import smtplib\n",
    "from email.mime.multipart import MIMEMultipart\n",
    "from email.mime.text import MIMEText\n",
    "import smtplib\n",
    "import urllib.request\n",
    "from PIL import Image\n",
    "import sys\n",
    "sys.getdefaultencoding()\n",
    "import json"
   ]
  },
  {
   "cell_type": "code",
   "execution_count": 87,
   "metadata": {},
   "outputs": [],
   "source": [
    "url_base = 'https://www.worldometers.info/coronavirus/'\n",
    "urls = [url_base+'country/spain/',url_base+'country/italy/',url_base]\n",
    "countries = ['España:','Italia:', 'todo el Mundo:']\n",
    "scrapped_info = ['Infectados','Fallecidos','Recuperados']\n",
    "result=\"\"\n",
    "for url in urls:\n",
    "    result+=\"Afectados en \"+countries[urls.index(url)]+os.linesep\n",
    "    html_soup = BeautifulSoup(get(url).text, 'html.parser')\n",
    "    virus_containers = html_soup.find_all('div', class_ = 'maincounter-number')\n",
    "    for number in virus_containers:\n",
    "        result+=scrapped_info[virus_containers.index(number)]+\": \"+number.find('span').get_text()+os.linesep\n",
    "    result+=os.linesep\n",
    "result+=os.linesep"
   ]
  },
  {
   "cell_type": "code",
   "execution_count": 92,
   "metadata": {},
   "outputs": [],
   "source": [
    "def extractMapImage():\n",
    "    return Image.open(urllib.request.urlopen(\"https://covid19.isciii.es/resources/Mapa.jpg\"))\n",
    "def extractCurveStatusImage():\n",
    "    return Image.open(urllib.request.urlopen('https://covid19.isciii.es/resources/CURVASTATUS.png')).convert('RGB')"
   ]
  },
  {
   "cell_type": "code",
   "execution_count": 84,
   "metadata": {
    "scrolled": true
   },
   "outputs": [
    {
     "name": "stdout",
     "output_type": "stream",
     "text": [
      "None\n"
     ]
    }
   ],
   "source": [
    "def getRegion(region):\n",
    "    now = datetime.datetime.now()\n",
    "    date_str = str(now.year).zfill(2)+'-'+str(now.month).zfill(2)+'-'+str(now.day-1).zfill(2)\n",
    "    api_url_base = 'https://api.covid19tracking.narrativa.com/api/'+date_str+'/country/spain/region/'+region\n",
    "    headers = {'Content-Type': 'application/json','Authorization': 'Bearer {0}'}\n",
    "    response = get(api_url_base, headers=headers)\n",
    "    if response.status_code == 200:\n",
    "        json_region = json.loads(response.content.decode('utf-8'))['dates'][date_str]['countries']['Spain']['regions'][0]\n",
    "        return ['Infectados: '+str(json_region['today_confirmed']),\n",
    "        'Fallecidos: '+str(json_region['today_deaths']),\n",
    "        'Recuperados: '+str(json_region['today_recovered'])]\n",
    "    else:\n",
    "        return None\n",
    "\n",
    "def getRegions():\n",
    "    final_result=''\n",
    "    regions = ['Andalucía','Galicia','Madrid','Cataluña']\n",
    "    for region in regions:\n",
    "        results=getRegion(region)\n",
    "        if results != None:\n",
    "            final_result+='Afectados en '+region+\": \"+os.linesep+results[0]+os.linesep+results[1]+os.linesep+results[2]+os.linesep\n",
    "            final_result+=os.linesep\n",
    "    return final_resultzz\n"
   ]
  },
  {
   "cell_type": "code",
   "execution_count": 3,
   "metadata": {},
   "outputs": [],
   "source": [
    "def getDateTime():\n",
    "    SEP = \"/\"\n",
    "    now = datetime.datetime.now()\n",
    "    return str(now.day).zfill(2)+SEP+str(now.month).zfill(2)+SEP+str(now.year).zfill(2)+\" \"+str(now.hour).zfill(2)+\":\"+str(now.minute).zfill(2)"
   ]
  },
  {
   "cell_type": "code",
   "execution_count": null,
   "metadata": {},
   "outputs": [],
   "source": [
    "msg = MIMEMultipart()\n",
    "\n",
    "# setup your Gmail Parameters\n",
    "password = \"***\"\n",
    "msg['From'] = \"***\"\n",
    "msg['To'] = \"***\"\n",
    "msg['Subject'] = \"Coronavirus, \"+ getDateTime()\n",
    " \n",
    "# add in the message body\n",
    "result+=getRegions()\n",
    "msg.attach(MIMEText(result, 'plain'))\n",
    "\n",
    "#Gmail Server\n",
    "server = smtplib.SMTP('smtp.gmail.com: 587')\n",
    " \n",
    "server.starttls()\n",
    " \n",
    "# Login Credentials for sending the mail\n",
    "server.login(msg['From'], password)\n",
    " \n",
    " \n",
    "# send the message via the server.\n",
    "server.sendmail(msg['From'], msg['To'], msg.as_string())\n",
    " \n",
    "server.quit()\n",
    " \n",
    "print(\"successfully sent email to: \"+msg['To'])"
   ]
  }
 ],
 "metadata": {
  "kernelspec": {
   "display_name": "Python 3",
   "language": "python",
   "name": "python3"
  },
  "language_info": {
   "codemirror_mode": {
    "name": "ipython",
    "version": 3
   },
   "file_extension": ".py",
   "mimetype": "text/x-python",
   "name": "python",
   "nbconvert_exporter": "python",
   "pygments_lexer": "ipython3",
   "version": "3.7.4"
  }
 },
 "nbformat": 4,
 "nbformat_minor": 2
}
